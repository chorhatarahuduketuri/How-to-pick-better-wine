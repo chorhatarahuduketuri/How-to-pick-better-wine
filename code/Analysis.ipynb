{
 "cells": [
  {
   "cell_type": "markdown",
   "metadata": {},
   "source": [
    "# Analysis"
   ]
  },
  {
   "cell_type": "code",
   "execution_count": 1,
   "metadata": {},
   "outputs": [],
   "source": [
    "# Imports\n",
    "import pandas as pd\n",
    "\n",
    "redwine = pd.read_csv('../data/winequality-red.csv')\n",
    "whitewine = pd.read_csv('../data/winequality-white.csv')"
   ]
  },
  {
   "cell_type": "markdown",
   "metadata": {},
   "source": [
    "## Questions 1 & 2\n",
    "\n",
    "The first two questions are about which are the most important factors for quality when making wine. Since this dataset is about physicochemical measurements, they mean which chemical attributes should you aim for. Since the initial EDA didn't turn up anything obvious or strongly linearly correlated, I'll use some sort of not-quite-so-linear model to see if anything correlates that way. And I'll have to use one that I can see the workings of. \n",
    "\n",
    "###### Plan: \n",
    "1. Pick a usable model that I can see the insides of. \n",
    "2. Train that model to some good level of accuracy. \n",
    "3. Have a look inside and see what features the model has learned can be used. \n",
    "4. Pick out the one's that are indicitive of either especially good or bad wine. \n",
    "5. Repeat with another type of model until I have my answers or I determine they can't be found. "
   ]
  }
 ],
 "metadata": {
  "kernelspec": {
   "display_name": "Python 3",
   "language": "python",
   "name": "python3"
  },
  "language_info": {
   "codemirror_mode": {
    "name": "ipython",
    "version": 3
   },
   "file_extension": ".py",
   "mimetype": "text/x-python",
   "name": "python",
   "nbconvert_exporter": "python",
   "pygments_lexer": "ipython3",
   "version": "3.6.5"
  }
 },
 "nbformat": 4,
 "nbformat_minor": 2
}
